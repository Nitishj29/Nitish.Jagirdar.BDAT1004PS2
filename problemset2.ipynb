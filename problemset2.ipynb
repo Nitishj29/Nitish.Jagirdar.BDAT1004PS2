{
 "cells": [
  {
   "cell_type": "markdown",
   "metadata": {},
   "source": [
    "# QUESTION 1\n",
    "## Consider the following Python module:\n",
    "## a = 0\n",
    "## def b():\n",
    "## global a\n",
    "## a = c(a)\n",
    "## def c(a):\n",
    "## return a + 2\n",
    "## After importing the module into the interpreter, you execute:\n",
    "## >>> b()\n",
    "## >>> b()\n",
    "## >>> b()\n",
    "## >>> a\n",
    "\n",
    "## What value is displayed when the last expression (a) is evaluated? Explain your answer by indicating what happens in every executed statement.\n",
    "# ANSWER 1"
   ]
  },
  {
   "cell_type": "code",
   "execution_count": 3,
   "metadata": {},
   "outputs": [
    {
     "data": {
      "text/plain": [
       "6"
      ]
     },
     "execution_count": 3,
     "metadata": {},
     "output_type": "execute_result"
    }
   ],
   "source": [
    "a = 0                  # default value as global variable\n",
    "def b():\n",
    " global a              # first default value is 0\n",
    " a = c(a)              # execute c and add 2 to value a\n",
    "def c(a):\n",
    " return a + 2          # since a is global variable it will be updated everytime a is changed from b()\n",
    "\n",
    "b()\n",
    "b()\n",
    "b()\n",
    "a\n"
   ]
  },
  {
   "cell_type": "markdown",
   "metadata": {},
   "source": [
    "## The output value which is displayed is 6 when the last expression (a) is evaluated because the initial value of a= 0 becomes 2 when c is executed and everytime the function b() is executed(in this case, 3 times) the value of a gets added 3 times resulting in the value of the output to be 6  \n"
   ]
  },
  {
   "cell_type": "markdown",
   "metadata": {},
   "source": [
    "# QUESTION 2\n",
    "## Function fileLength(), given to you, takes the name of a file as input and returns the length of the file:\n",
    "## >>> fileLength('midterm.py')\n",
    "## 284\n",
    "## >>> fileLength('idterm.py')\n",
    "## Traceback (most recent call last):\n",
    "## File \"<pyshell#34>\", line 1, in \n",
    "## fileLength('idterm.py')\n",
    "## File \"/Users/me/midterm.py\", line 3, in fileLength\n",
    "## infile = open(filename)\n",
    "## FileNotFoundError: [Errno 2] No such file or directory:\n",
    "## 'idterm.py'\n",
    "## As shown above, if the file cannot be found by the interpreter or if it cannot be read as a text file, an exception will be raised. Modify function fileLength() so that a friendly message is printed instead:\n",
    "## >>> fileLength('midterm.py')\n",
    "## 358\n",
    "## >>> fileLength('idterm.py')\n",
    "## File idterm.py not found.\n",
    "# ANSWER 2\n"
   ]
  },
  {
   "cell_type": "code",
   "execution_count": 65,
   "metadata": {},
   "outputs": [
    {
     "name": "stdout",
     "output_type": "stream",
     "text": [
      "358\n",
      "File abcd.txt not found\n"
     ]
    }
   ],
   "source": [
    "def fileLength(filename):                           # defining function fileLength\n",
    "    if( not os.path.isfile(filename)):        \n",
    "        print(\"File \" +filename+ \" not found\")      # if filename is not found in the directory\n",
    "    else:\n",
    "        infile = open(filename)                 \n",
    "        length_file = 0                             # initial assignment of length is 0\n",
    "        while True:\n",
    "            length_file = length_file +1            # appending length of the file to length_file\n",
    "            length = infile.readline()\n",
    "            length_file = length_file + len(length)\n",
    "            if not length:\n",
    "                break                               # breaks the loop\n",
    "        print(length_file)\n",
    "        \n",
    "fileLength('abcde.txt')\n",
    "fileLength('abcd.txt')"
   ]
  },
  {
   "cell_type": "markdown",
   "metadata": {},
   "source": [
    "# QUESTION 3\n",
    "## Write a class named Marsupial that can be used as shown below:\n",
    "### >>> m = Marsupial()\n",
    "### >>> m.put_in_pouch('doll')\n",
    "### >>> m.put_in_pouch('firetruck')\n",
    "### >>> m.put_in_pouch('kitten')\n",
    "### >>> m.pouch_contents()\n",
    "### ['doll', 'firetruck', 'kitten']\n",
    "## Now write a class named Kangaroo as a subclass of Marsupial that inherits all the attributes of Marsupial and also:\n",
    "## a. extends the Marsupial __init__ constructor to take, as input, the coordinates x and y of the Kangaroo object,\n",
    "## b. supports method jump that takes number values dx and dy as input and moves the kangaroo by dx units along the x-axis and by dy units along the yaxis, and\n",
    "## c. overloads the __str__ operator so it behaves as shown below.\n",
    "### >>> k = Kangaroo(0,0)\n",
    "### >>> print(k)\n",
    "### I am a Kangaroo located at coordinates (0,0)\n",
    "### >>> k.put_in_pouch('doll')\n",
    "### >>> k.put_in_pouch('firetruck')\n",
    "### >>> k.put_in_pouch('kitten')\n",
    "### >>> k.pouch_contents()\n",
    "### ['doll', 'firetruck', 'kitten']\n",
    "### >>> k.jump(1,0)\n",
    "### >>> k.jump(1,0)\n",
    "### >>> k.jump(1,0)\n",
    "### >>> print(k)\n",
    "### I am a Kangaroo located at coordinates (3,0)\n",
    "# ANSWER 3"
   ]
  },
  {
   "cell_type": "code",
   "execution_count": 8,
   "metadata": {},
   "outputs": [
    {
     "name": "stdout",
     "output_type": "stream",
     "text": [
      "I am a Kangaroo located at coordinates (0,0)\n",
      "['doll', 'firetruck', 'kitten']\n",
      "I am a Kangaroo located at coordinates (3,0)\n"
     ]
    }
   ],
   "source": [
    "class Marsupial:                           #creating a parent class\n",
    "    def __init__(self):\n",
    "        self.pouch = []                    # empty list\n",
    "\n",
    "    def put_in_pouch(self,data):\n",
    "        self.pouch.append(data)            # value to be added to the empty list self.pouch\n",
    "        \n",
    "    def pouch_contents(self):\n",
    "        print(self.pouch)\n",
    "        \n",
    "class Kangaroo(Marsupial):                 # child class which is subclass and inherits all attributes of the class Marsupial\n",
    "    def __init__(self,x,y):                # x and y coordinates\n",
    "        Marsupial.__init__(self)  \n",
    "        self.x = x;\n",
    "        self.y = y;\n",
    "        \n",
    "    def __str__(self):\n",
    "        return 'I am a Kangaroo located at coordinates ('+str(self.x)+','+str(self.y)+')'\n",
    "    \n",
    "    def jump(self,x,y):\n",
    "        self.x = self.x+x;                 # new coordinates after every jump\n",
    "        self.y= self.y+y;\n",
    "k = Kangaroo(0, 0)\n",
    "print(k)\n",
    "k.put_in_pouch(\"doll\")\n",
    "k.put_in_pouch('firetruck')\n",
    "k.put_in_pouch('kitten')\n",
    "k.pouch_contents()\n",
    "k.jump(1, 0)\n",
    "k.jump(1, 0)\n",
    "k.jump(1, 0)\n",
    "print(k)\n",
    "        "
   ]
  },
  {
   "cell_type": "markdown",
   "metadata": {},
   "source": [
    "# QUESTION 5\n",
    "# Write function collatz() that takes a positive integer x as input and prints the\n",
    "# Collatz sequence starting at x. A Collatz sequence is obtained by repeatedly applying this rule to the previous number x in the sequence:\n",
    "## x = {\n",
    "## 𝑥/2 𝑖𝑓 𝑥 𝑖𝑠 𝑒𝑣𝑒𝑛\n",
    "## 3𝑥 + 1 𝑖𝑓 𝑥 𝑖𝑠 𝑜𝑑d\n",
    "# Your function should stop when the sequence gets to number 1. Your implementation must be recursive, without any loops.\n",
    "# ANSWER 5"
   ]
  },
  {
   "cell_type": "code",
   "execution_count": 41,
   "metadata": {},
   "outputs": [
    {
     "name": "stdout",
     "output_type": "stream",
     "text": [
      "10\n",
      "5\n",
      "16\n",
      "8\n",
      "4\n",
      "2\n"
     ]
    }
   ],
   "source": [
    "def collatz(x):                     \n",
    "    while(x!=1):                    # execute as long as x is not equal to 1\n",
    "        print(x)                    \n",
    "        if(x%2==0):                 # remainder is 0 if x is even\n",
    "            x = int(x/2)            \n",
    "        else:\n",
    "            x = 3*x + 1             # if x is odd\n",
    "    print(x)\n",
    "    \n",
    "\n",
    "    \n",
    "collatz(1)\n",
    "collatz(10)"
   ]
  },
  {
   "cell_type": "markdown",
   "metadata": {},
   "source": [
    "# QUESTION 6\n",
    "# Write a recursive method binary() that takes a non-negative integer n and prints the binary representation of integer n.\n",
    "### >>> binary(0)\n",
    "### 0\n",
    "### >>> binary(1)\n",
    "### 1\n",
    "### >>> binary(3)\n",
    "### 11\n",
    "### >>> binary(9)\n",
    "### 1001\n",
    "\n",
    "# ANSWER 6"
   ]
  },
  {
   "cell_type": "code",
   "execution_count": 86,
   "metadata": {},
   "outputs": [
    {
     "name": "stdout",
     "output_type": "stream",
     "text": [
      "0\n",
      "1\n",
      "11\n",
      "1001\n"
     ]
    }
   ],
   "source": [
    "def binary(x):\n",
    "    if(x >= 0):\n",
    "        return format(x,\"b\")                        # convert x into its binary form\n",
    "    else:\n",
    "        return 'Non-negative integers not accepted'\n",
    "    \n",
    "print(binary(0))\n",
    "print(binary(1))\n",
    "print(binary(3))\n",
    "print(binary(9))"
   ]
  },
  {
   "cell_type": "markdown",
   "metadata": {},
   "source": [
    "# QUESTION 7\n",
    "## Implement a class named HeadingParser that can be used to parse an HTML document, and retrieve and print all the headings in the document. You should implement your class as a subclass of HTMLParser, defined in Standard Library module html.parser. When fed a string containing HTML code, your class should print the headings, one per line and in the order in which they appear in the document. Each heading should be indented as follows: an h1 heading should have indentation 0, and h2 heading should have indentation 1, etc. Test your implementation using w3c.html.\n",
    "### >>> infile = open('w3c.html')\n",
    "### >>> content = infile.read()\n",
    "### >>> infile.close()\n",
    "### >>> hp = HeadingParser()\n",
    "### >>> hp.feed(content)\n",
    "### W3C Mission\n",
    "### Principles"
   ]
  },
  {
   "cell_type": "code",
   "execution_count": 40,
   "metadata": {},
   "outputs": [
    {
     "name": "stdout",
     "output_type": "stream",
     "text": [
      "W3C Mission\n",
      "\tPrinciples\n"
     ]
    }
   ],
   "source": [
    "from html.parser import HTMLParser              # importing html.parser module\n",
    "class HeadingParser (HTMLParser):               # class that will be used to parse an HTML document\n",
    "    def _init_(self):                           # instance of the object\n",
    "        self.start_tag = \"\"\n",
    "        HTMLParser._init_(self)\n",
    "    def handle_starttag(self, tag, attrs):      # function used to handle the start\n",
    "        self.start_tag = tag\n",
    "    def handle_data(self, data):\n",
    "        if(self.start_tag== 'h1'):              # heading h1 \n",
    "            print(data)\n",
    "        if(self.start_tag== 'h2'):              # heading h2\n",
    "            print(\"\\t\"+data)                    # \\t is tab used for indentation\n",
    "        self.start_tag = \"\"\n",
    "infile = open('w3c.html')                       # provided html file\n",
    "content = infile.read()\n",
    "infile.close()\n",
    "hp = HeadingParser()\n",
    "hp.feed(content)\n",
    "        \n",
    "            "
   ]
  },
  {
   "cell_type": "markdown",
   "metadata": {},
   "source": [
    "# QUESTION 8\n",
    "## Implement recursive function webdir() that takes as input: a URL (as a string) and non-negative integers depth and indent. Your function should visit every web page reachable from the starting URL web page in depth clicks or less, and print each web page's URL. As shown below, indentation, specified by indent, should be used to indicate the depth of a URL.\n",
    "\n",
    "## webdir('http://reed.cs.depaul.edu/lperkovic/csc242/test1.html', 2, 0)\n",
    "## http://reed.cs.depaul.edu/lperkovic/csc242/test1.html\n",
    "## http://reed.cs.depaul.edu/lperkovic/csc242/test2.html\n",
    "## http://reed.cs.depaul.edu/lperkovic/csc242/test4.html\n",
    "## http://reed.cs.depaul.edu/lperkovic/csc242/test3.html\n",
    "## http://reed.cs.depaul.edu/lperkovic/csc242/test4.html\n",
    "\n",
    "# ANSWER 8"
   ]
  },
  {
   "cell_type": "code",
   "execution_count": 15,
   "metadata": {},
   "outputs": [
    {
     "ename": "NameError",
     "evalue": "name 'url' is not defined",
     "output_type": "error",
     "traceback": [
      "\u001b[1;31m---------------------------------------------------------------------------\u001b[0m",
      "\u001b[1;31mNameError\u001b[0m                                 Traceback (most recent call last)",
      "\u001b[1;32m<ipython-input-15-1283c78cef25>\u001b[0m in \u001b[0;36m<module>\u001b[1;34m\u001b[0m\n\u001b[0;32m     12\u001b[0m     \u001b[0mhtml\u001b[0m \u001b[1;33m=\u001b[0m \u001b[0mrequests\u001b[0m\u001b[1;33m.\u001b[0m\u001b[0mget\u001b[0m\u001b[1;33m(\u001b[0m\u001b[0murl\u001b[0m\u001b[1;33m)\u001b[0m\u001b[1;33m\u001b[0m\u001b[1;33m\u001b[0m\u001b[0m\n\u001b[0;32m     13\u001b[0m     \u001b[0murlParser\u001b[0m\u001b[1;33m.\u001b[0m\u001b[0mfeed\u001b[0m\u001b[1;33m(\u001b[0m\u001b[0mhtml\u001b[0m\u001b[1;33m.\u001b[0m\u001b[0mtext\u001b[0m\u001b[1;33m)\u001b[0m\u001b[1;33m\u001b[0m\u001b[1;33m\u001b[0m\u001b[0m\n\u001b[1;32m---> 14\u001b[1;33m \u001b[0mwebdir\u001b[0m\u001b[1;33m(\u001b[0m\u001b[0murl\u001b[0m\u001b[1;33m,\u001b[0m \u001b[0mdepth\u001b[0m\u001b[1;33m,\u001b[0m\u001b[0mindent\u001b[0m\u001b[1;33m)\u001b[0m\u001b[1;33m\u001b[0m\u001b[1;33m\u001b[0m\u001b[0m\n\u001b[0m\u001b[0;32m     15\u001b[0m \u001b[0mwebdir\u001b[0m\u001b[1;33m(\u001b[0m\u001b[1;34m\"https://www.python.org/about/gettingstarted/\"\u001b[0m\u001b[1;33m,\u001b[0m\u001b[1;36m2\u001b[0m\u001b[1;33m,\u001b[0m\u001b[1;36m0\u001b[0m\u001b[1;33m)\u001b[0m\u001b[1;33m\u001b[0m\u001b[1;33m\u001b[0m\u001b[0m\n",
      "\u001b[1;31mNameError\u001b[0m: name 'url' is not defined"
     ]
    }
   ],
   "source": [
    "from html.parser import HTMLParser\n",
    "import requests\n",
    "class UrlParser(HTMLParser):\n",
    "    def _init_(self):\n",
    "        self.url = []\n",
    "        HTMLParser._init_(self)\n",
    "    \n",
    "def webdir(url,depth,indent):\n",
    "    \n",
    "    url = \"https://www.python.org/about/gettingstarted/\"\n",
    "    urlParser = urlParser()\n",
    "    html = requests.get(url)\n",
    "    urlParser.feed(html.text)\n",
    "webdir(url, depth,indent)\n",
    "webdir(\"https://www.python.org/about/gettingstarted/\",2,0)"
   ]
  },
  {
   "cell_type": "markdown",
   "metadata": {},
   "source": [
    "# QUESTION 9\n",
    "# Write SQL queries on the below database table that return:\n",
    "\n",
    "## a) All the temperature data.\n",
    "## b) All the cities, but without repetition.\n",
    "## c) All the records for India.\n",
    "## d) All the Fall records.\n",
    "## e) The city, country, and season for which the average rainfall is between 200 and 400 millimeters.\n",
    "## f) The city and country for which the average Fall temperature is above 20 degrees, in increasing temperature order.\n",
    "## g) The total annual rainfall for Cairo.\n",
    "## h) The total rainfall for each season.\n",
    "\n",
    "\n",
    "\n",
    "\n",
    "# ANSWER 9\n",
    "\n",
    "# Let the database table name be Table\n",
    "\n",
    "\n",
    "## a) All the temperature data.\n",
    "\n",
    "## SELECT Temperature FROM Table;\n",
    "\n",
    "\n",
    "\n",
    "## b) All the cities, but without repetition.\n",
    "\n",
    "## SELECT DISTINCT City FROM Table;\n",
    "\n",
    "\n",
    "\n",
    "## c) All the records for India.\n",
    "\n",
    "## SELECT * FROM Table WHERE Country = 'India' ;\n",
    "\n",
    "\n",
    "\n",
    "## d) All the Fall records.\n",
    "\n",
    "## SELECT * FROM Table WHERE Season = 'Fall' ;\n",
    "\n",
    "\n",
    "\n",
    "## e) The city, country, and season for which the average rainfall is between 200 and 400 millimeters.\n",
    "\n",
    "## SELECT City, Country, Season FROM Table WHERE Rainfall BETWEEN 200 AND 400;\n",
    "\n",
    "\n",
    "\n",
    "## f) The city and country for which the average Fall temperature is above 20 degrees, in increasing temperature order.\n",
    "\n",
    "## SELECT City, Country FROM Table WHERE Season = 'Fall' AND Temperature > 20 ORDER BY Temperature ASC ;\n",
    "\n",
    "\n",
    "\n",
    "## g) The total annual rainfall for Cairo.\n",
    "\n",
    "## SELECT SUM(Rainfall) FROM Table WHERE City = 'Cairo' ;\n",
    "\n",
    "\n",
    "\n",
    "## h) The total rainfall for each season.\n",
    "\n",
    "## SELECT Season, SUM(Rainfall) FROM Table GROUP BY Season;\n",
    "\n"
   ]
  },
  {
   "cell_type": "markdown",
   "metadata": {},
   "source": [
    "\n",
    "\n",
    "\n",
    "\n",
    "\n",
    "\n",
    "\n",
    "# QUESTION 10\n",
    "## . Suppose list words is defined as follows:\n",
    "## >>> words = ['The', 'quick', 'brown', 'fox', 'jumps', 'over', 'the', 'lazy', 'dog']\n",
    "## Write list comprehension expressions that use list words and generate the following lists:\n",
    "## a) ['THE', 'QUICK', 'BROWN', 'FOX', 'JUMPS', 'OVER', 'THE', 'LAZY', 'DOG']\n",
    "## b) ['the', 'quick', 'brown', 'fox', 'jumps', 'over', 'the', 'lazy', 'dog']\n",
    "## c) [3, 5, 5, 3, 5, 4, 3, 4, 3] (the list of lengths of words in list words).\n",
    "## d) [['THE', 'the', 3], ['QUICK', 'quick', 5], ['BROWN', 'brown', 5], ['FOX', 'fox', 3], ['JUMPS', 'jumps', 5], ['OVER', 'over', 4], ['THE', 'the', 3], ['LAZY', 'lazy', 4], ['DOG', 'dog', 3]] (the list containing a list for every word of list words, where each list contains the word in uppercase and lowercase and the length of the word.)\n",
    "## e) ['The', 'quick', 'brown', 'fox', 'jumps', 'over', 'the', 'lazy', 'dog'] (the list of words in list words containing 4 or more characters.)\n",
    "\n",
    "# ANSWER 10\n"
   ]
  },
  {
   "cell_type": "code",
   "execution_count": 20,
   "metadata": {},
   "outputs": [
    {
     "name": "stdout",
     "output_type": "stream",
     "text": [
      "['THE', 'QUICK', 'BROWN', 'FOX', 'JUMPS', 'OVER', 'THE', 'LAZY', 'DOG']\n",
      "['the', 'quick', 'brown', 'fox', 'jumps', 'over', 'the', 'lazy', 'dog']\n",
      "[3, 5, 5, 3, 5, 4, 3, 4, 3]\n",
      "[['THE', 'the', 3], ['QUICK', 'quick', 5], ['BROWN', 'brown', 5], ['FOX', 'fox', 3], ['JUMPS', 'jumps', 5], ['OVER', 'over', 4], ['THE', 'the', 3], ['LAZY', 'lazy', 4], ['DOG', 'dog', 3]]\n",
      "['The', 'quick', 'brown', 'fox', 'jumps', 'over', 'the', 'lazy', 'dog']\n"
     ]
    }
   ],
   "source": [
    "words = ['The', 'quick', 'brown', 'fox', 'jumps', 'over',                  # given list\n",
    "         'the', 'lazy', 'dog']\n",
    "print([i.upper() for i in words])\n",
    "print([i.lower() for i in words])\n",
    "print([len(i) for i in words])\n",
    "print([[i.upper(),i.lower(),len(i)] for i in words])\n",
    "print([i for i in words if len(i) >= 3])                                   #print words containing 3 or more letters\n"
   ]
  },
  {
   "cell_type": "code",
   "execution_count": null,
   "metadata": {},
   "outputs": [],
   "source": []
  },
  {
   "cell_type": "code",
   "execution_count": null,
   "metadata": {},
   "outputs": [],
   "source": []
  },
  {
   "cell_type": "code",
   "execution_count": null,
   "metadata": {},
   "outputs": [],
   "source": []
  },
  {
   "cell_type": "code",
   "execution_count": null,
   "metadata": {},
   "outputs": [],
   "source": []
  }
 ],
 "metadata": {
  "kernelspec": {
   "display_name": "Python 3",
   "language": "python",
   "name": "python3"
  },
  "language_info": {
   "codemirror_mode": {
    "name": "ipython",
    "version": 3
   },
   "file_extension": ".py",
   "mimetype": "text/x-python",
   "name": "python",
   "nbconvert_exporter": "python",
   "pygments_lexer": "ipython3",
   "version": "3.7.6"
  }
 },
 "nbformat": 4,
 "nbformat_minor": 4
}
